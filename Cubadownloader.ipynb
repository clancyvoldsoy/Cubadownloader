{
  "nbformat": 4,
  "nbformat_minor": 0,
  "metadata": {
    "colab": {
      "provenance": [],
      "authorship_tag": "ABX9TyOnnXIe0gyANook4Z/r7JR+",
      "include_colab_link": true
    },
    "kernelspec": {
      "name": "python3",
      "display_name": "Python 3"
    },
    "language_info": {
      "name": "python"
    }
  },
  "cells": [
    {
      "cell_type": "markdown",
      "metadata": {
        "id": "view-in-github",
        "colab_type": "text"
      },
      "source": [
        "<a href=\"https://colab.research.google.com/github/clancyvoldsoy/Cubadownloader/blob/main/Cubadownloader.ipynb\" target=\"_parent\"><img src=\"https://colab.research.google.com/assets/colab-badge.svg\" alt=\"Open In Colab\"/></a>"
      ]
    },
    {
      "cell_type": "code",
      "execution_count": null,
      "metadata": {
        "id": "At-7vGoUlZ-T"
      },
      "outputs": [],
      "source": [
        "# Importar las librerías necesarias\n",
        "from google.colab import drive\n",
        "from google.colab import files\n",
        "import requests\n",
        "from tqdm import tqdm\n",
        "import ipywidgets as widgets\n",
        "from IPython.display import display\n",
        "import os\n",
        "import subprocess\n",
        "\n",
        "# Montar Google Drive\n",
        "drive.mount('/content/drive')\n",
        "\n",
        "# Instalar aria2\n",
        "!apt-get install -y aria2\n",
        "\n",
        "# Crear widgets para la interfaz\n",
        "link_input = widgets.Text(\n",
        "    description='URL:',\n",
        "    placeholder='Introduce el enlace aquí'\n",
        ")\n",
        "magnet_input = widgets.Text(\n",
        "    description='Magnet:',\n",
        "    placeholder='Introduce el enlace magnet aquí'\n",
        ")\n",
        "download_button = widgets.Button(description='Descargar Archivo')\n",
        "magnet_button = widgets.Button(description='Descargar Magnet')\n",
        "output = widgets.Output()\n",
        "\n",
        "# Función para descargar archivos\n",
        "def download_file(url, destination):\n",
        "    response = requests.get(url, stream=True)\n",
        "    total_size = int(response.headers.get('content-length', 0))\n",
        "    block_size = 1024\n",
        "    t = tqdm(total=total_size, unit='iB', unit_scale=True)\n",
        "    with open(destination, 'wb') as file:\n",
        "        for data in response.iter_content(block_size):\n",
        "            t.update(len(data))\n",
        "            file.write(data)\n",
        "    t.close()\n",
        "    if total_size != 0 and t.n != total_size:\n",
        "        print(\"ERROR, algo salió mal\")\n",
        "    else:\n",
        "        print(\"Descarga completada\")\n",
        "\n",
        "# Función para manejar la descarga de archivos\n",
        "def on_download_button_clicked(b):\n",
        "    with output:\n",
        "        output.clear_output()\n",
        "        url = link_input.value\n",
        "        if url:\n",
        "            destination = '/content/drive/MyDrive/' + os.path.basename(url)\n",
        "            download_file(url, destination)\n",
        "\n",
        "# Función para manejar la descarga de enlaces magnet\n",
        "def on_magnet_button_clicked(b):\n",
        "    with output:\n",
        "        output.clear_output()\n",
        "        magnet = magnet_input.value\n",
        "        if magnet:\n",
        "            destination = '/content/drive/MyDrive/'\n",
        "            process = subprocess.Popen(['aria2c', '--disable-ipv6', magnet, '-d', destination], stdout=subprocess.PIPE, stderr=subprocess.PIPE, text=True)\n",
        "            for line in iter(process.stdout.readline, ''):\n",
        "                print(line, end='')\n",
        "            process.stdout.close()\n",
        "            process.wait()\n",
        "            print(\"Descarga de magnet completada\")\n",
        "\n",
        "# Asignar funciones a los botones\n",
        "download_button.on_click(on_download_button_clicked)\n",
        "magnet_button.on_click(on_magnet_button_clicked)\n",
        "\n",
        "# Organizar la interfaz en un layout\n",
        "ui = widgets.VBox([\n",
        "    widgets.HBox([link_input, download_button]),\n",
        "    widgets.HBox([magnet_input, magnet_button]),\n",
        "    output\n",
        "])\n",
        "\n",
        "# Mostrar la interfaz\n",
        "display(ui)\n"
      ]
    }
  ]
}